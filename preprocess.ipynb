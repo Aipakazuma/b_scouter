{
 "cells": [
  {
   "cell_type": "code",
   "execution_count": 12,
   "metadata": {
    "collapsed": true
   },
   "outputs": [],
   "source": [
    "import cv2\n",
    "import pandas as pd\n",
    "import re"
   ]
  },
  {
   "cell_type": "code",
   "execution_count": 2,
   "metadata": {
    "collapsed": true
   },
   "outputs": [],
   "source": [
    "geo_df = pd.read_csv('./geo_all.csv', names=['タイトル', '監督', 'カテゴリ', 'キャスト', '販売国', '画像URL', '詳細URL'])"
   ]
  },
  {
   "cell_type": "code",
   "execution_count": 3,
   "metadata": {
    "collapsed": false
   },
   "outputs": [],
   "source": [
    "# カテゴリの重複を削除してユニークにする\n",
    "geo_categories_column = geo_df['カテゴリ'].apply(lambda x: str(x).split(','))"
   ]
  },
  {
   "cell_type": "code",
   "execution_count": 4,
   "metadata": {
    "collapsed": false
   },
   "outputs": [
    {
     "data": {
      "text/plain": [
       "(['海外TVドラマ', 'ミステリー・サスペンス'], '海外TVドラマ')"
      ]
     },
     "execution_count": 4,
     "metadata": {},
     "output_type": "execute_result"
    }
   ],
   "source": [
    "geo_categories_column[0], geo_categories_column[0][0]"
   ]
  },
  {
   "cell_type": "code",
   "execution_count": 5,
   "metadata": {
    "collapsed": true
   },
   "outputs": [],
   "source": [
    "from itertools import chain"
   ]
  },
  {
   "cell_type": "code",
   "execution_count": 6,
   "metadata": {
    "collapsed": false
   },
   "outputs": [],
   "source": [
    "geo_categories = list(set(chain.from_iterable(geo_categories_column.values.flatten().tolist())))"
   ]
  },
  {
   "cell_type": "code",
   "execution_count": 7,
   "metadata": {
    "collapsed": false
   },
   "outputs": [
    {
     "data": {
      "text/plain": [
       "(['ゲーム',\n",
       "  'モータースポーツ',\n",
       "  '戦争',\n",
       "  'アドベンチャー',\n",
       "  'クラシック',\n",
       "  'エロス',\n",
       "  '名作（アニメ）',\n",
       "  '青春',\n",
       "  'SF',\n",
       "  '伝記',\n",
       "  '戦争ドラマ',\n",
       "  '国内スポーツ',\n",
       "  'その他',\n",
       "  '邦画',\n",
       "  '子供が主役',\n",
       "  '競馬',\n",
       "  '水着',\n",
       "  'オムニバス',\n",
       "  'コメディ',\n",
       "  'ファンタジー',\n",
       "  'ギャング・マフィア',\n",
       "  '青春 （アニメ）',\n",
       "  'アイドル',\n",
       "  '海外音楽',\n",
       "  'ハードボイルド',\n",
       "  '3D',\n",
       "  '海外TVドラマ',\n",
       "  '自然・ヒーリング',\n",
       "  '国内TVドラマ',\n",
       "  'スノーボード・スキー',\n",
       "  'プロレス',\n",
       "  'メイキング',\n",
       "  '美少女（アニメ）',\n",
       "  '動物',\n",
       "  'ディズニー',\n",
       "  'キッズ',\n",
       "  'ファミリー',\n",
       "  '漫才・コント',\n",
       "  '鉄道・旅',\n",
       "  'ファミリー （アニメ）',\n",
       "  'パニック',\n",
       "  '国内音楽',\n",
       "  '海外スポーツ',\n",
       "  'SF （アニメ）',\n",
       "  'SM',\n",
       "  '国内TVバラエティ',\n",
       "  'ファンタジー（アニメ）',\n",
       "  'ミステリー・サスペンス',\n",
       "  '落語',\n",
       "  'HOW TO',\n",
       "  '時代劇',\n",
       "  '演劇・ミュージカル',\n",
       "  'パチンコ＆パチスロ',\n",
       "  'カンフー・少林寺',\n",
       "  'ホラー',\n",
       "  '教養・ドキュメント',\n",
       "  '国内アニメ',\n",
       "  '音楽',\n",
       "  '法廷ドラマ',\n",
       "  'ウエスタン',\n",
       "  'ヒーロー （アニメ）',\n",
       "  '文芸・史劇',\n",
       "  'オリジナル （アニメ）',\n",
       "  '冒険（アニメ）',\n",
       "  'ボーイズラブ （アニメ）',\n",
       "  '刑事',\n",
       "  'スパイ',\n",
       "  'ドラマ',\n",
       "  '海外アニメ',\n",
       "  '洋画',\n",
       "  'アクション',\n",
       "  'コミック（アニメ）',\n",
       "  'アクション（アニメ）',\n",
       "  '格闘技',\n",
       "  'サッカー',\n",
       "  '海外TVバラエティ',\n",
       "  'ジブリ',\n",
       "  'スプラッター',\n",
       "  'お笑い・バラエティ',\n",
       "  'ヤクザ',\n",
       "  'キッズ （アニメ）',\n",
       "  'ヒーロー',\n",
       "  '企画・ドキュメント',\n",
       "  'スポーツ',\n",
       "  'アジア',\n",
       "  'バイオレンス',\n",
       "  'ラブロマンス',\n",
       "  'ボーイズラブ',\n",
       "  '子供向け',\n",
       "  '特撮',\n",
       "  'エイリアン・モンスター',\n",
       "  'アジアTVドラマ',\n",
       "  'アート'],\n",
       " 93)"
      ]
     },
     "execution_count": 7,
     "metadata": {},
     "output_type": "execute_result"
    }
   ],
   "source": [
    "geo_categories, len(geo_categories)"
   ]
  },
  {
   "cell_type": "markdown",
   "metadata": {},
   "source": [
    "この中の、（個人的に好きなジャンル）'ホラー', 'エイリアン・モンスター', 'パニック', 'SF'、 'ミステリー・サスペンス'を予測するモデルを作成する"
   ]
  },
  {
   "cell_type": "code",
   "execution_count": 21,
   "metadata": {
    "collapsed": false
   },
   "outputs": [],
   "source": [
    "my_favorite = ['ホラー', 'エイリアン・モンスター', 'パニック', 'SF', 'ミステリー・サスペンス']\n",
    "# アニメ、ドラマシリーズは取り除きたい\n",
    "ignore_categories = ['国内TVドラマ', 'アジアTVドラマ', '国内アニメ', '海外TVドラマ', 'SF （アニメ）']"
   ]
  },
  {
   "cell_type": "code",
   "execution_count": 22,
   "metadata": {
    "collapsed": false
   },
   "outputs": [],
   "source": [
    "_my_favarit_df = geo_df[geo_df['カテゴリ'].str.contains('|'.join(my_favorite))]\n",
    "my_favarit_df = _my_favarit_df[~_my_favarit_df['カテゴリ'].str.contains('|'.join(ignore_categories))]"
   ]
  },
  {
   "cell_type": "code",
   "execution_count": 33,
   "metadata": {
    "collapsed": false
   },
   "outputs": [
    {
     "name": "stdout",
     "output_type": "stream",
     "text": [
      "<class 'pandas.core.frame.DataFrame'>\n",
      "Int64Index: 11055 entries, 12 to 133048\n",
      "Data columns (total 7 columns):\n",
      "タイトル     11055 non-null object\n",
      "監督       10557 non-null object\n",
      "カテゴリ     11055 non-null object\n",
      "キャスト     9972 non-null object\n",
      "販売国      11055 non-null object\n",
      "画像URL    11055 non-null object\n",
      "詳細URL    11055 non-null object\n",
      "dtypes: object(7)\n",
      "memory usage: 690.9+ KB\n"
     ]
    }
   ],
   "source": [
    "my_favarit_df.info()"
   ]
  },
  {
   "cell_type": "markdown",
   "metadata": {},
   "source": [
    "とりあえず、11,055は集まったっぽい"
   ]
  },
  {
   "cell_type": "code",
   "execution_count": 34,
   "metadata": {
    "collapsed": true
   },
   "outputs": [],
   "source": [
    "# csvにはいてラベル付する\n",
    "my_favarit_df.to_csv('favarit.csv')"
   ]
  },
  {
   "cell_type": "code",
   "execution_count": null,
   "metadata": {
    "collapsed": true
   },
   "outputs": [],
   "source": []
  }
 ],
 "metadata": {
  "kernelspec": {
   "display_name": "Python 3",
   "language": "python",
   "name": "python3"
  },
  "language_info": {
   "codemirror_mode": {
    "name": "ipython",
    "version": 3
   },
   "file_extension": ".py",
   "mimetype": "text/x-python",
   "name": "python",
   "nbconvert_exporter": "python",
   "pygments_lexer": "ipython3",
   "version": "3.4.4"
  }
 },
 "nbformat": 4,
 "nbformat_minor": 0
}
