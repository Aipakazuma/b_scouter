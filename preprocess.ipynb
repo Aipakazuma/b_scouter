{
 "cells": [
  {
   "cell_type": "code",
   "execution_count": 1,
   "metadata": {
    "collapsed": true
   },
   "outputs": [],
   "source": [
    "import cv2\n",
    "import pandas as pd\n",
    "import re"
   ]
  },
  {
   "cell_type": "code",
   "execution_count": 38,
   "metadata": {
    "collapsed": true
   },
   "outputs": [],
   "source": [
    "geo_df = pd.read_csv('./geo_all.csv', names=['タイトル', '監督', 'カテゴリ', 'キャスト', '販売国', '画像URL', '詳細URL'])"
   ]
  },
  {
   "cell_type": "code",
   "execution_count": 39,
   "metadata": {
    "collapsed": false
   },
   "outputs": [],
   "source": [
    "# カテゴリの重複を削除してユニークにする\n",
    "geo_categories_column = geo_df['カテゴリ'].apply(lambda x: str(x).split(','))"
   ]
  },
  {
   "cell_type": "code",
   "execution_count": 40,
   "metadata": {
    "collapsed": false
   },
   "outputs": [
    {
     "data": {
      "text/plain": [
       "(['海外TVドラマ', 'ミステリー・サスペンス'], '海外TVドラマ')"
      ]
     },
     "execution_count": 40,
     "metadata": {},
     "output_type": "execute_result"
    }
   ],
   "source": [
    "geo_categories_column[0], geo_categories_column[0][0]"
   ]
  },
  {
   "cell_type": "code",
   "execution_count": 41,
   "metadata": {
    "collapsed": true
   },
   "outputs": [],
   "source": [
    "from itertools import chain"
   ]
  },
  {
   "cell_type": "code",
   "execution_count": 42,
   "metadata": {
    "collapsed": false
   },
   "outputs": [],
   "source": [
    "geo_categories = list(set(chain.from_iterable(geo_categories_column.values.flatten().tolist())))"
   ]
  },
  {
   "cell_type": "code",
   "execution_count": 43,
   "metadata": {
    "collapsed": false
   },
   "outputs": [
    {
     "data": {
      "text/plain": [
       "(['ゲーム',\n",
       "  'モータースポーツ',\n",
       "  '戦争',\n",
       "  'アドベンチャー',\n",
       "  'クラシック',\n",
       "  'エロス',\n",
       "  '名作（アニメ）',\n",
       "  '青春',\n",
       "  'SF',\n",
       "  '伝記',\n",
       "  '戦争ドラマ',\n",
       "  '国内スポーツ',\n",
       "  'その他',\n",
       "  '邦画',\n",
       "  '子供が主役',\n",
       "  '競馬',\n",
       "  '水着',\n",
       "  'オムニバス',\n",
       "  'コメディ',\n",
       "  'ファンタジー',\n",
       "  'ギャング・マフィア',\n",
       "  '青春 （アニメ）',\n",
       "  'アイドル',\n",
       "  '海外音楽',\n",
       "  'ハードボイルド',\n",
       "  '3D',\n",
       "  '海外TVドラマ',\n",
       "  '自然・ヒーリング',\n",
       "  '国内TVドラマ',\n",
       "  'スノーボード・スキー',\n",
       "  'プロレス',\n",
       "  'メイキング',\n",
       "  '美少女（アニメ）',\n",
       "  '動物',\n",
       "  'ディズニー',\n",
       "  'キッズ',\n",
       "  'ファミリー',\n",
       "  '漫才・コント',\n",
       "  '鉄道・旅',\n",
       "  'ファミリー （アニメ）',\n",
       "  'パニック',\n",
       "  '国内音楽',\n",
       "  '海外スポーツ',\n",
       "  'SF （アニメ）',\n",
       "  'SM',\n",
       "  '国内TVバラエティ',\n",
       "  'ファンタジー（アニメ）',\n",
       "  'ミステリー・サスペンス',\n",
       "  '落語',\n",
       "  'HOW TO',\n",
       "  '時代劇',\n",
       "  '演劇・ミュージカル',\n",
       "  'パチンコ＆パチスロ',\n",
       "  'カンフー・少林寺',\n",
       "  'ホラー',\n",
       "  '教養・ドキュメント',\n",
       "  '国内アニメ',\n",
       "  '音楽',\n",
       "  '法廷ドラマ',\n",
       "  'ウエスタン',\n",
       "  'ヒーロー （アニメ）',\n",
       "  '文芸・史劇',\n",
       "  'オリジナル （アニメ）',\n",
       "  '冒険（アニメ）',\n",
       "  'ボーイズラブ （アニメ）',\n",
       "  '刑事',\n",
       "  'スパイ',\n",
       "  'ドラマ',\n",
       "  '海外アニメ',\n",
       "  '洋画',\n",
       "  'アクション',\n",
       "  'コミック（アニメ）',\n",
       "  'アクション（アニメ）',\n",
       "  '格闘技',\n",
       "  'サッカー',\n",
       "  '海外TVバラエティ',\n",
       "  'ジブリ',\n",
       "  'スプラッター',\n",
       "  'お笑い・バラエティ',\n",
       "  'ヤクザ',\n",
       "  'キッズ （アニメ）',\n",
       "  'ヒーロー',\n",
       "  '企画・ドキュメント',\n",
       "  'スポーツ',\n",
       "  'アジア',\n",
       "  'バイオレンス',\n",
       "  'ラブロマンス',\n",
       "  'ボーイズラブ',\n",
       "  '子供向け',\n",
       "  '特撮',\n",
       "  'エイリアン・モンスター',\n",
       "  'アジアTVドラマ',\n",
       "  'アート'],\n",
       " 93)"
      ]
     },
     "execution_count": 43,
     "metadata": {},
     "output_type": "execute_result"
    }
   ],
   "source": [
    "geo_categories, len(geo_categories)"
   ]
  },
  {
   "cell_type": "markdown",
   "metadata": {},
   "source": [
    "この中の、（個人的に好きなジャンル）'ホラー', 'エイリアン・モンスター', 'パニック', 'SF'、 'ミステリー・サスペンス'を予測するモデルを作成する"
   ]
  },
  {
   "cell_type": "code",
   "execution_count": 44,
   "metadata": {
    "collapsed": false
   },
   "outputs": [],
   "source": [
    "my_favorite = ['ホラー', 'エイリアン・モンスター', 'パニック', 'SF', 'ミステリー・サスペンス']\n",
    "# アニメ、ドラマシリーズは取り除きたい\n",
    "ignore_categories = ['国内TVドラマ', 'アジアTVドラマ', '国内アニメ', '海外TVドラマ', 'SF （アニメ）']"
   ]
  },
  {
   "cell_type": "code",
   "execution_count": 45,
   "metadata": {
    "collapsed": false
   },
   "outputs": [],
   "source": [
    "_my_favarit_df = geo_df[geo_df['カテゴリ'].str.contains('|'.join(my_favorite))]\n",
    "my_favarit_df = _my_favarit_df[~_my_favarit_df['カテゴリ'].str.contains('|'.join(ignore_categories))]"
   ]
  },
  {
   "cell_type": "code",
   "execution_count": 33,
   "metadata": {
    "collapsed": false
   },
   "outputs": [
    {
     "name": "stdout",
     "output_type": "stream",
     "text": [
      "<class 'pandas.core.frame.DataFrame'>\n",
      "Int64Index: 11055 entries, 12 to 133048\n",
      "Data columns (total 7 columns):\n",
      "タイトル     11055 non-null object\n",
      "監督       10557 non-null object\n",
      "カテゴリ     11055 non-null object\n",
      "キャスト     9972 non-null object\n",
      "販売国      11055 non-null object\n",
      "画像URL    11055 non-null object\n",
      "詳細URL    11055 non-null object\n",
      "dtypes: object(7)\n",
      "memory usage: 690.9+ KB\n"
     ]
    }
   ],
   "source": [
    "my_favarit_df.info()"
   ]
  },
  {
   "cell_type": "markdown",
   "metadata": {},
   "source": [
    "とりあえず、11,055は集まったっぽい"
   ]
  },
  {
   "cell_type": "code",
   "execution_count": 34,
   "metadata": {
    "collapsed": true
   },
   "outputs": [],
   "source": [
    "# csvにはいてラベル付する\n",
    "my_favarit_df.to_csv('favarit.csv')"
   ]
  },
  {
   "cell_type": "code",
   "execution_count": 36,
   "metadata": {
    "collapsed": true
   },
   "outputs": [],
   "source": [
    "# と、思ったけど、ラベル付だるくなったので、好きなやつだけにする\n",
    "# つまり、好きっぽい・あんま興味ない範囲外の映画にする"
   ]
  },
  {
   "cell_type": "code",
   "execution_count": 57,
   "metadata": {
    "collapsed": false
   },
   "outputs": [],
   "source": [
    "not_my_favarit_df = geo_df[~geo_df.index.isin(my_favarit_df.index)]"
   ]
  },
  {
   "cell_type": "code",
   "execution_count": 58,
   "metadata": {
    "collapsed": false
   },
   "outputs": [
    {
     "name": "stdout",
     "output_type": "stream",
     "text": [
      "<class 'pandas.core.frame.DataFrame'>\n",
      "Int64Index: 122011 entries, 0 to 133065\n",
      "Data columns (total 7 columns):\n",
      "タイトル     122011 non-null object\n",
      "監督       118023 non-null object\n",
      "カテゴリ     122011 non-null object\n",
      "キャスト     106675 non-null object\n",
      "販売国      122011 non-null object\n",
      "画像URL    122011 non-null object\n",
      "詳細URL    122011 non-null object\n",
      "dtypes: object(7)\n",
      "memory usage: 7.4+ MB\n"
     ]
    }
   ],
   "source": [
    "not_my_favarit_df.info()"
   ]
  },
  {
   "cell_type": "markdown",
   "metadata": {},
   "source": [
    "これでいいっぽい"
   ]
  },
  {
   "cell_type": "code",
   "execution_count": 71,
   "metadata": {
    "collapsed": false
   },
   "outputs": [
    {
     "name": "stderr",
     "output_type": "stream",
     "text": [
      "/Users/kazumatamaki/.pyenv/versions/anaconda3-2.3.0/lib/python3.4/site-packages/pandas/core/indexing.py:476: SettingWithCopyWarning: \n",
      "A value is trying to be set on a copy of a slice from a DataFrame.\n",
      "Try using .loc[row_indexer,col_indexer] = value instead\n",
      "\n",
      "See the caveats in the documentation: http://pandas.pydata.org/pandas-docs/stable/indexing.html#indexing-view-versus-copy\n",
      "  self.obj[item] = s\n"
     ]
    }
   ],
   "source": [
    "my_favarit_df.loc[:, 'label'] = 0\n",
    "not_my_favarit_df.loc[:, ('label')] = 1"
   ]
  },
  {
   "cell_type": "code",
   "execution_count": 72,
   "metadata": {
    "collapsed": false
   },
   "outputs": [
    {
     "data": {
      "text/html": [
       "<div>\n",
       "<table border=\"1\" class=\"dataframe\">\n",
       "  <thead>\n",
       "    <tr style=\"text-align: right;\">\n",
       "      <th></th>\n",
       "      <th>タイトル</th>\n",
       "      <th>監督</th>\n",
       "      <th>カテゴリ</th>\n",
       "      <th>キャスト</th>\n",
       "      <th>販売国</th>\n",
       "      <th>画像URL</th>\n",
       "      <th>詳細URL</th>\n",
       "      <th>label</th>\n",
       "    </tr>\n",
       "  </thead>\n",
       "  <tbody>\n",
       "    <tr>\n",
       "      <th>12</th>\n",
       "      <td>ほんとにあった！呪いのビデオ 34</td>\n",
       "      <td>児玉和土</td>\n",
       "      <td>その他,教養・ドキュメント,ホラー</td>\n",
       "      <td>中村義洋</td>\n",
       "      <td>日本</td>\n",
       "      <td>https://rental.geo-online.co.jp/cdn/00563000/0...</td>\n",
       "      <td>http://rental.geo-online.co.jp//detail-147378....</td>\n",
       "      <td>0</td>\n",
       "    </tr>\n",
       "    <tr>\n",
       "      <th>29</th>\n",
       "      <td>【Blu-ray】アンダーワールド ビギンズ</td>\n",
       "      <td>パトリック・タトポロス</td>\n",
       "      <td>洋画,アクション,SF</td>\n",
       "      <td>マイケル・シーン,ビル・ナイ,ローナ・ミトラ,スティーヴン・マッキントッシュ</td>\n",
       "      <td>アメリカ</td>\n",
       "      <td>https://rental.geo-online.co.jp/cdn/00561000/0...</td>\n",
       "      <td>http://rental.geo-online.co.jp//detail-149229....</td>\n",
       "      <td>0</td>\n",
       "    </tr>\n",
       "    <tr>\n",
       "      <th>50</th>\n",
       "      <td>REC/レック 2</td>\n",
       "      <td>ジャウマ・バラゲロ</td>\n",
       "      <td>洋画,ホラー,パニック</td>\n",
       "      <td>パコ・プラサ,ジョナサン・メイヨール,オスカル・サンチェス・サフラ,マニュエラ・ヴェラスコ</td>\n",
       "      <td>スペイン</td>\n",
       "      <td>https://rental.geo-online.co.jp/cdn/00593000/0...</td>\n",
       "      <td>http://rental.geo-online.co.jp//detail-176425....</td>\n",
       "      <td>0</td>\n",
       "    </tr>\n",
       "    <tr>\n",
       "      <th>51</th>\n",
       "      <td>悪夢のエレベーター</td>\n",
       "      <td>堀部圭亮</td>\n",
       "      <td>邦画,ミステリー・サスペンス,コメディ</td>\n",
       "      <td>内野聖陽,佐津川愛美,モト冬樹,斉藤工</td>\n",
       "      <td>日本</td>\n",
       "      <td>https://rental.geo-online.co.jp/cdn/00593000/0...</td>\n",
       "      <td>http://rental.geo-online.co.jp//detail-176427....</td>\n",
       "      <td>0</td>\n",
       "    </tr>\n",
       "    <tr>\n",
       "      <th>55</th>\n",
       "      <td>ラスト3デイズ 〜すべて彼女のために〜</td>\n",
       "      <td>フレッド・カヴァイエ</td>\n",
       "      <td>洋画,ミステリー・サスペンス</td>\n",
       "      <td>ダイアン・クルーガー,ヴァンサン・ランドン,ランスロ・ロッシュ,オリヴィエ・マルシャル</td>\n",
       "      <td>フランス</td>\n",
       "      <td>https://rental.geo-online.co.jp/cdn/00624000/0...</td>\n",
       "      <td>http://rental.geo-online.co.jp//detail-191651....</td>\n",
       "      <td>0</td>\n",
       "    </tr>\n",
       "  </tbody>\n",
       "</table>\n",
       "</div>"
      ],
      "text/plain": [
       "                      タイトル           監督                 カテゴリ  \\\n",
       "12       ほんとにあった！呪いのビデオ 34         児玉和土    その他,教養・ドキュメント,ホラー   \n",
       "29  【Blu-ray】アンダーワールド ビギンズ  パトリック・タトポロス          洋画,アクション,SF   \n",
       "50               REC/レック 2    ジャウマ・バラゲロ          洋画,ホラー,パニック   \n",
       "51               悪夢のエレベーター         堀部圭亮  邦画,ミステリー・サスペンス,コメディ   \n",
       "55     ラスト3デイズ 〜すべて彼女のために〜   フレッド・カヴァイエ       洋画,ミステリー・サスペンス   \n",
       "\n",
       "                                             キャスト   販売国  \\\n",
       "12                                           中村義洋    日本   \n",
       "29         マイケル・シーン,ビル・ナイ,ローナ・ミトラ,スティーヴン・マッキントッシュ  アメリカ   \n",
       "50  パコ・プラサ,ジョナサン・メイヨール,オスカル・サンチェス・サフラ,マニュエラ・ヴェラスコ  スペイン   \n",
       "51                            内野聖陽,佐津川愛美,モト冬樹,斉藤工    日本   \n",
       "55    ダイアン・クルーガー,ヴァンサン・ランドン,ランスロ・ロッシュ,オリヴィエ・マルシャル  フランス   \n",
       "\n",
       "                                                画像URL  \\\n",
       "12  https://rental.geo-online.co.jp/cdn/00563000/0...   \n",
       "29  https://rental.geo-online.co.jp/cdn/00561000/0...   \n",
       "50  https://rental.geo-online.co.jp/cdn/00593000/0...   \n",
       "51  https://rental.geo-online.co.jp/cdn/00593000/0...   \n",
       "55  https://rental.geo-online.co.jp/cdn/00624000/0...   \n",
       "\n",
       "                                                詳細URL  label  \n",
       "12  http://rental.geo-online.co.jp//detail-147378....      0  \n",
       "29  http://rental.geo-online.co.jp//detail-149229....      0  \n",
       "50  http://rental.geo-online.co.jp//detail-176425....      0  \n",
       "51  http://rental.geo-online.co.jp//detail-176427....      0  \n",
       "55  http://rental.geo-online.co.jp//detail-191651....      0  "
      ]
     },
     "execution_count": 72,
     "metadata": {},
     "output_type": "execute_result"
    }
   ],
   "source": [
    "my_favarit_df.head()"
   ]
  },
  {
   "cell_type": "code",
   "execution_count": 73,
   "metadata": {
    "collapsed": false
   },
   "outputs": [
    {
     "data": {
      "text/html": [
       "<div>\n",
       "<table border=\"1\" class=\"dataframe\">\n",
       "  <thead>\n",
       "    <tr style=\"text-align: right;\">\n",
       "      <th></th>\n",
       "      <th>タイトル</th>\n",
       "      <th>監督</th>\n",
       "      <th>カテゴリ</th>\n",
       "      <th>キャスト</th>\n",
       "      <th>販売国</th>\n",
       "      <th>画像URL</th>\n",
       "      <th>詳細URL</th>\n",
       "      <th>label</th>\n",
       "    </tr>\n",
       "  </thead>\n",
       "  <tbody>\n",
       "    <tr>\n",
       "      <th>0</th>\n",
       "      <td>LOST シーズン5 Vol.5</td>\n",
       "      <td>マシュー・フォックス</td>\n",
       "      <td>海外TVドラマ,ミステリー・サスペンス</td>\n",
       "      <td>エヴァンジェリン・リリー,ジョシュ・ホロウェイ,ナヴィーン・アンドリュース,エミリー・デ・レイビン</td>\n",
       "      <td>アメリカ</td>\n",
       "      <td>https://rental.geo-online.co.jp/cdn/00583000/0...</td>\n",
       "      <td>http://rental.geo-online.co.jp//detail-170348....</td>\n",
       "      <td>1</td>\n",
       "    </tr>\n",
       "    <tr>\n",
       "      <th>1</th>\n",
       "      <td>LOST シーズン5 Vol.6</td>\n",
       "      <td>マシュー・フォックス</td>\n",
       "      <td>海外TVドラマ,ミステリー・サスペンス</td>\n",
       "      <td>エヴァンジェリン・リリー,ジョシュ・ホロウェイ,ナヴィーン・アンドリュース,エミリー・デ・レイビン</td>\n",
       "      <td>アメリカ</td>\n",
       "      <td>https://rental.geo-online.co.jp/cdn/00583000/0...</td>\n",
       "      <td>http://rental.geo-online.co.jp//detail-170349....</td>\n",
       "      <td>1</td>\n",
       "    </tr>\n",
       "    <tr>\n",
       "      <th>2</th>\n",
       "      <td>NHK大河ドラマ 天地人 完全版 第4巻</td>\n",
       "      <td>片岡敬司</td>\n",
       "      <td>国内TVドラマ,時代劇</td>\n",
       "      <td>妻夫木聡,北村一輝,小栗旬,阿部寛</td>\n",
       "      <td>日本</td>\n",
       "      <td>https://rental.geo-online.co.jp/cdn/00580000/0...</td>\n",
       "      <td>http://rental.geo-online.co.jp//detail-168838....</td>\n",
       "      <td>1</td>\n",
       "    </tr>\n",
       "    <tr>\n",
       "      <th>3</th>\n",
       "      <td>異世界の聖機師物語 3</td>\n",
       "      <td>吉川浩司</td>\n",
       "      <td>国内アニメ,ファンタジー（アニメ）</td>\n",
       "      <td>下野紘,米澤円,桑谷夏子,恒松あゆみ</td>\n",
       "      <td>日本</td>\n",
       "      <td>https://rental.geo-online.co.jp/cdn/00557000/0...</td>\n",
       "      <td>http://rental.geo-online.co.jp//detail-145841....</td>\n",
       "      <td>1</td>\n",
       "    </tr>\n",
       "    <tr>\n",
       "      <th>4</th>\n",
       "      <td>NHKドラマスペシャル 白洲次郎 1</td>\n",
       "      <td>大友啓史</td>\n",
       "      <td>国内TVドラマ</td>\n",
       "      <td>伊勢谷友介,中谷美紀,奥田瑛二,原田美枝子</td>\n",
       "      <td>日本</td>\n",
       "      <td>https://rental.geo-online.co.jp/cdn/00573000/0...</td>\n",
       "      <td>http://rental.geo-online.co.jp//detail-165716....</td>\n",
       "      <td>1</td>\n",
       "    </tr>\n",
       "  </tbody>\n",
       "</table>\n",
       "</div>"
      ],
      "text/plain": [
       "                   タイトル          監督                 カテゴリ  \\\n",
       "0      LOST シーズン5 Vol.5  マシュー・フォックス  海外TVドラマ,ミステリー・サスペンス   \n",
       "1      LOST シーズン5 Vol.6  マシュー・フォックス  海外TVドラマ,ミステリー・サスペンス   \n",
       "2  NHK大河ドラマ 天地人 完全版 第4巻        片岡敬司          国内TVドラマ,時代劇   \n",
       "3           異世界の聖機師物語 3        吉川浩司    国内アニメ,ファンタジー（アニメ）   \n",
       "4    NHKドラマスペシャル 白洲次郎 1        大友啓史              国内TVドラマ   \n",
       "\n",
       "                                                キャスト   販売国  \\\n",
       "0  エヴァンジェリン・リリー,ジョシュ・ホロウェイ,ナヴィーン・アンドリュース,エミリー・デ・レイビン  アメリカ   \n",
       "1  エヴァンジェリン・リリー,ジョシュ・ホロウェイ,ナヴィーン・アンドリュース,エミリー・デ・レイビン  アメリカ   \n",
       "2                                  妻夫木聡,北村一輝,小栗旬,阿部寛    日本   \n",
       "3                                 下野紘,米澤円,桑谷夏子,恒松あゆみ    日本   \n",
       "4                              伊勢谷友介,中谷美紀,奥田瑛二,原田美枝子    日本   \n",
       "\n",
       "                                               画像URL  \\\n",
       "0  https://rental.geo-online.co.jp/cdn/00583000/0...   \n",
       "1  https://rental.geo-online.co.jp/cdn/00583000/0...   \n",
       "2  https://rental.geo-online.co.jp/cdn/00580000/0...   \n",
       "3  https://rental.geo-online.co.jp/cdn/00557000/0...   \n",
       "4  https://rental.geo-online.co.jp/cdn/00573000/0...   \n",
       "\n",
       "                                               詳細URL  label  \n",
       "0  http://rental.geo-online.co.jp//detail-170348....      1  \n",
       "1  http://rental.geo-online.co.jp//detail-170349....      1  \n",
       "2  http://rental.geo-online.co.jp//detail-168838....      1  \n",
       "3  http://rental.geo-online.co.jp//detail-145841....      1  \n",
       "4  http://rental.geo-online.co.jp//detail-165716....      1  "
      ]
     },
     "execution_count": 73,
     "metadata": {},
     "output_type": "execute_result"
    }
   ],
   "source": [
    "not_my_favarit_df.head()"
   ]
  },
  {
   "cell_type": "code",
   "execution_count": 74,
   "metadata": {
    "collapsed": true
   },
   "outputs": [],
   "source": [
    "my_favarit_df.to_csv('favarit.csv')\n",
    "not_my_favarit_df.to_csv('not_my_favarit.csv')"
   ]
  },
  {
   "cell_type": "code",
   "execution_count": 2,
   "metadata": {
    "collapsed": true
   },
   "outputs": [],
   "source": [
    "test = pd.read_csv('./test.csv')"
   ]
  },
  {
   "cell_type": "code",
   "execution_count": 7,
   "metadata": {
    "collapsed": false
   },
   "outputs": [],
   "source": [
    "test[['画像URL']].to_csv('./test.csv', header=False, index=True)"
   ]
  },
  {
   "cell_type": "code",
   "execution_count": null,
   "metadata": {
    "collapsed": true
   },
   "outputs": [],
   "source": []
  }
 ],
 "metadata": {
  "kernelspec": {
   "display_name": "Python 3",
   "language": "python",
   "name": "python3"
  },
  "language_info": {
   "codemirror_mode": {
    "name": "ipython",
    "version": 3
   },
   "file_extension": ".py",
   "mimetype": "text/x-python",
   "name": "python",
   "nbconvert_exporter": "python",
   "pygments_lexer": "ipython3",
   "version": "3.4.4"
  }
 },
 "nbformat": 4,
 "nbformat_minor": 0
}
